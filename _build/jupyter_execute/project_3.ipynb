{
 "cells": [
  {
   "cell_type": "markdown",
   "metadata": {},
   "source": [
    "# Project 3\n",
    "\n",
    "## This project is based on a Bureau of Labor Statistics dataset titled 'U.S. Incomes by Occupation and Gender.' The aim of the project is to assess the gender pay gap across various occupations in the U.S. The project focuses on two key metrics:\n",
    "### 1. Top 10 occupations with the highest gender pay gap \n",
    "### 2. The relationship between the percentage of women in an occupation and the gender pay gap"
   ]
  },
  {
   "cell_type": "code",
   "execution_count": 62,
   "metadata": {},
   "outputs": [],
   "source": [
    "import plotly.io as pio\n",
    "\n",
    "pio.renderers.default = \"vscode+jupyterlab+notebook_connected\""
   ]
  },
  {
   "cell_type": "code",
   "execution_count": 63,
   "metadata": {},
   "outputs": [],
   "source": [
    "import pandas as pd\n",
    "import plotly.express as px"
   ]
  },
  {
   "cell_type": "code",
   "execution_count": 64,
   "metadata": {},
   "outputs": [],
   "source": [
    "df = pd.read_csv(\"Genderpaygap.csv\") #Load the selected dataset\n"
   ]
  },
  {
   "cell_type": "code",
   "execution_count": 65,
   "metadata": {},
   "outputs": [
    {
     "name": "stdout",
     "output_type": "stream",
     "text": [
      "First few rows of the dataset:\n",
      "                        Occupation  All_workers  All_weekly  M_workers  \\\n",
      "0                  ALL OCCUPATIONS       109080       809.0      60746   \n",
      "1                       MANAGEMENT        12480      1351.0       7332   \n",
      "2                 Chief executives         1046      2041.0        763   \n",
      "3  General and operations managers          823      1260.0        621   \n",
      "4                      Legislators            8         NaN          5   \n",
      "\n",
      "   M_weekly  F_workers  F_weekly  \n",
      "0     895.0      48334     726.0  \n",
      "1    1486.0       5147    1139.0  \n",
      "2    2251.0        283    1836.0  \n",
      "3    1347.0        202    1002.0  \n",
      "4       NaN          4       NaN  \n"
     ]
    }
   ],
   "source": [
    "print(\"First few rows of the dataset:\") #Inspect initial rows of the dataset\n",
    "print(df.head())"
   ]
  },
  {
   "cell_type": "code",
   "execution_count": 66,
   "metadata": {},
   "outputs": [
    {
     "name": "stdout",
     "output_type": "stream",
     "text": [
      "\n",
      "Missing values in dataset:\n",
      "Occupation       0\n",
      "All_workers      0\n",
      "All_weekly     236\n",
      "M_workers        0\n",
      "M_weekly       326\n",
      "F_workers        0\n",
      "F_weekly       366\n",
      "dtype: int64\n",
      "\n",
      "Data types in dataset:\n",
      "Occupation      object\n",
      "All_workers      int64\n",
      "All_weekly     float64\n",
      "M_workers        int64\n",
      "M_weekly       float64\n",
      "F_workers        int64\n",
      "F_weekly       float64\n",
      "dtype: object\n"
     ]
    }
   ],
   "source": [
    "#Check for missing data and relevant data types\n",
    "print(\"\\nMissing values in dataset:\")\n",
    "print(df.isnull().sum())\n",
    "\n",
    "print(\"\\nData types in dataset:\")\n",
    "print(df.dtypes)"
   ]
  },
  {
   "cell_type": "code",
   "execution_count": 67,
   "metadata": {},
   "outputs": [],
   "source": [
    "#Exclude rows with null values in given columns: All_weekly', 'M_weekly', and 'F_weekly'\n",
    "df_cleaned = df.dropna(subset=['All_weekly', 'M_weekly', 'F_weekly'])"
   ]
  },
  {
   "cell_type": "code",
   "execution_count": 68,
   "metadata": {},
   "outputs": [
    {
     "name": "stderr",
     "output_type": "stream",
     "text": [
      "/var/folders/vg/h3lbx5z145318rh164vrd5_m0000gn/T/ipykernel_34361/3203162813.py:2: SettingWithCopyWarning:\n",
      "\n",
      "\n",
      "A value is trying to be set on a copy of a slice from a DataFrame.\n",
      "Try using .loc[row_indexer,col_indexer] = value instead\n",
      "\n",
      "See the caveats in the documentation: https://pandas.pydata.org/pandas-docs/stable/user_guide/indexing.html#returning-a-view-versus-a-copy\n",
      "\n"
     ]
    }
   ],
   "source": [
    "# Calculate the Gender Pay Gap as the difference between male and female median weekly incomes\n",
    "df_cleaned['Gender_Pay_Gap'] = df_cleaned['M_weekly'] - df_cleaned['F_weekly']"
   ]
  },
  {
   "cell_type": "code",
   "execution_count": 69,
   "metadata": {},
   "outputs": [
    {
     "name": "stdout",
     "output_type": "stream",
     "text": [
      "\n",
      "Summary statistics for Gender Pay Gap:\n",
      "count    142.000000\n",
      "mean     190.063380\n",
      "std      149.089302\n",
      "min      -99.000000\n",
      "25%       89.250000\n",
      "50%      164.500000\n",
      "75%      264.750000\n",
      "max      742.000000\n",
      "Name: Gender_Pay_Gap, dtype: float64\n"
     ]
    }
   ],
   "source": [
    "# Display summary statistics for Gender Pay Gap\n",
    "print(\"\\nSummary statistics for Gender Pay Gap:\")\n",
    "print(df_cleaned['Gender_Pay_Gap'].describe())"
   ]
  },
  {
   "cell_type": "code",
   "execution_count": 70,
   "metadata": {},
   "outputs": [
    {
     "name": "stderr",
     "output_type": "stream",
     "text": [
      "/var/folders/vg/h3lbx5z145318rh164vrd5_m0000gn/T/ipykernel_34361/436082384.py:2: SettingWithCopyWarning:\n",
      "\n",
      "\n",
      "A value is trying to be set on a copy of a slice from a DataFrame.\n",
      "Try using .loc[row_indexer,col_indexer] = value instead\n",
      "\n",
      "See the caveats in the documentation: https://pandas.pydata.org/pandas-docs/stable/user_guide/indexing.html#returning-a-view-versus-a-copy\n",
      "\n"
     ]
    }
   ],
   "source": [
    "# Calculate the percentage of women in each occupation\n",
    "df_cleaned['Women_Percentage'] = df_cleaned['F_workers'] / df_cleaned['All_workers'] * 100"
   ]
  },
  {
   "cell_type": "code",
   "execution_count": 71,
   "metadata": {},
   "outputs": [
    {
     "name": "stdout",
     "output_type": "stream",
     "text": [
      "\n",
      "Summary statistics for Women Percentage:\n",
      "count    142.000000\n",
      "mean      47.592523\n",
      "std       21.030421\n",
      "min        2.394268\n",
      "25%       34.344675\n",
      "50%       47.037643\n",
      "75%       60.198884\n",
      "max       94.421952\n",
      "Name: Women_Percentage, dtype: float64\n"
     ]
    }
   ],
   "source": [
    "# Display summary statistics for Women Percentage\n",
    "print(\"\\nSummary statistics for Women Percentage:\")\n",
    "print(df_cleaned['Women_Percentage'].describe())"
   ]
  },
  {
   "cell_type": "code",
   "execution_count": 72,
   "metadata": {},
   "outputs": [],
   "source": [
    "# Graph 1: Bar plot for the top 10 occupations with the highest gender pay gap\n",
    "df_sorted = df_cleaned.sort_values(by='Gender_Pay_Gap', ascending=False)\n",
    "fig1 = px.bar(df_sorted.head(10), x='Occupation', y='Gender_Pay_Gap',\n",
    "              hover_data=['Women_Percentage'],\n",
    "              labels={'Gender_Pay_Gap': 'Gender Pay Gap (USD)', 'Occupation': 'Occupation'},\n",
    "              title='Top 10 Occupations with the Highest Gender Pay Gap')"
   ]
  },
  {
   "cell_type": "code",
   "execution_count": 73,
   "metadata": {},
   "outputs": [
    {
     "data": {
      "text/html": [
       "        <script type=\"text/javascript\">\n",
       "        window.PlotlyConfig = {MathJaxConfig: 'local'};\n",
       "        if (window.MathJax && window.MathJax.Hub && window.MathJax.Hub.Config) {window.MathJax.Hub.Config({SVG: {font: \"STIX-Web\"}});}\n",
       "        if (typeof require !== 'undefined') {\n",
       "        require.undef(\"plotly\");\n",
       "        requirejs.config({\n",
       "            paths: {\n",
       "                'plotly': ['https://cdn.plot.ly/plotly-2.32.0.min']\n",
       "            }\n",
       "        });\n",
       "        require(['plotly'], function(Plotly) {\n",
       "            window._Plotly = Plotly;\n",
       "        });\n",
       "        }\n",
       "        </script>\n",
       "        "
      ]
     },
     "metadata": {},
     "output_type": "display_data"
    },
    {
     "data": {
      "application/vnd.plotly.v1+json": {
       "config": {
        "plotlyServerURL": "https://plot.ly"
       },
       "data": [
        {
         "alignmentgroup": "True",
         "customdata": [
          [
           53.64041604754829
          ],
          [
           39.06633906633907
          ],
          [
           30.80568720379147
          ],
          [
           50.978647686832744
          ],
          [
           35.978835978835974
          ],
          [
           43.050847457627114
          ],
          [
           60.215053763440864
          ],
          [
           42.94117647058823
          ],
          [
           34.23645320197045
          ],
          [
           51.5527950310559
          ]
         ],
         "hovertemplate": "Occupation=%{x}<br>Gender Pay Gap (USD)=%{y}<br>Women_Percentage=%{customdata[0]}<extra></extra>",
         "legendgroup": "",
         "marker": {
          "color": "#636efa",
          "pattern": {
           "shape": ""
          }
         },
         "name": "",
         "offsetgroup": "",
         "orientation": "v",
         "showlegend": false,
         "textposition": "auto",
         "type": "bar",
         "x": [
          "LEGAL",
          "Personal financial advisors",
          "Securities, commodities, and financial services sales agents",
          "Financial managers",
          "Physical scientists, all other",
          "Financial analysts",
          "Business operations specialists, all other",
          "Administrative services managers",
          "Sales representatives, services, all other",
          "Advertising sales agents"
         ],
         "xaxis": "x",
         "y": [
          742,
          705,
          694,
          602,
          600,
          509,
          492,
          470,
          448,
          426
         ],
         "yaxis": "y"
        }
       ],
       "layout": {
        "barmode": "relative",
        "legend": {
         "tracegroupgap": 0
        },
        "template": {
         "data": {
          "bar": [
           {
            "error_x": {
             "color": "#2a3f5f"
            },
            "error_y": {
             "color": "#2a3f5f"
            },
            "marker": {
             "line": {
              "color": "#E5ECF6",
              "width": 0.5
             },
             "pattern": {
              "fillmode": "overlay",
              "size": 10,
              "solidity": 0.2
             }
            },
            "type": "bar"
           }
          ],
          "barpolar": [
           {
            "marker": {
             "line": {
              "color": "#E5ECF6",
              "width": 0.5
             },
             "pattern": {
              "fillmode": "overlay",
              "size": 10,
              "solidity": 0.2
             }
            },
            "type": "barpolar"
           }
          ],
          "carpet": [
           {
            "aaxis": {
             "endlinecolor": "#2a3f5f",
             "gridcolor": "white",
             "linecolor": "white",
             "minorgridcolor": "white",
             "startlinecolor": "#2a3f5f"
            },
            "baxis": {
             "endlinecolor": "#2a3f5f",
             "gridcolor": "white",
             "linecolor": "white",
             "minorgridcolor": "white",
             "startlinecolor": "#2a3f5f"
            },
            "type": "carpet"
           }
          ],
          "choropleth": [
           {
            "colorbar": {
             "outlinewidth": 0,
             "ticks": ""
            },
            "type": "choropleth"
           }
          ],
          "contour": [
           {
            "colorbar": {
             "outlinewidth": 0,
             "ticks": ""
            },
            "colorscale": [
             [
              0,
              "#0d0887"
             ],
             [
              0.1111111111111111,
              "#46039f"
             ],
             [
              0.2222222222222222,
              "#7201a8"
             ],
             [
              0.3333333333333333,
              "#9c179e"
             ],
             [
              0.4444444444444444,
              "#bd3786"
             ],
             [
              0.5555555555555556,
              "#d8576b"
             ],
             [
              0.6666666666666666,
              "#ed7953"
             ],
             [
              0.7777777777777778,
              "#fb9f3a"
             ],
             [
              0.8888888888888888,
              "#fdca26"
             ],
             [
              1,
              "#f0f921"
             ]
            ],
            "type": "contour"
           }
          ],
          "contourcarpet": [
           {
            "colorbar": {
             "outlinewidth": 0,
             "ticks": ""
            },
            "type": "contourcarpet"
           }
          ],
          "heatmap": [
           {
            "colorbar": {
             "outlinewidth": 0,
             "ticks": ""
            },
            "colorscale": [
             [
              0,
              "#0d0887"
             ],
             [
              0.1111111111111111,
              "#46039f"
             ],
             [
              0.2222222222222222,
              "#7201a8"
             ],
             [
              0.3333333333333333,
              "#9c179e"
             ],
             [
              0.4444444444444444,
              "#bd3786"
             ],
             [
              0.5555555555555556,
              "#d8576b"
             ],
             [
              0.6666666666666666,
              "#ed7953"
             ],
             [
              0.7777777777777778,
              "#fb9f3a"
             ],
             [
              0.8888888888888888,
              "#fdca26"
             ],
             [
              1,
              "#f0f921"
             ]
            ],
            "type": "heatmap"
           }
          ],
          "heatmapgl": [
           {
            "colorbar": {
             "outlinewidth": 0,
             "ticks": ""
            },
            "colorscale": [
             [
              0,
              "#0d0887"
             ],
             [
              0.1111111111111111,
              "#46039f"
             ],
             [
              0.2222222222222222,
              "#7201a8"
             ],
             [
              0.3333333333333333,
              "#9c179e"
             ],
             [
              0.4444444444444444,
              "#bd3786"
             ],
             [
              0.5555555555555556,
              "#d8576b"
             ],
             [
              0.6666666666666666,
              "#ed7953"
             ],
             [
              0.7777777777777778,
              "#fb9f3a"
             ],
             [
              0.8888888888888888,
              "#fdca26"
             ],
             [
              1,
              "#f0f921"
             ]
            ],
            "type": "heatmapgl"
           }
          ],
          "histogram": [
           {
            "marker": {
             "pattern": {
              "fillmode": "overlay",
              "size": 10,
              "solidity": 0.2
             }
            },
            "type": "histogram"
           }
          ],
          "histogram2d": [
           {
            "colorbar": {
             "outlinewidth": 0,
             "ticks": ""
            },
            "colorscale": [
             [
              0,
              "#0d0887"
             ],
             [
              0.1111111111111111,
              "#46039f"
             ],
             [
              0.2222222222222222,
              "#7201a8"
             ],
             [
              0.3333333333333333,
              "#9c179e"
             ],
             [
              0.4444444444444444,
              "#bd3786"
             ],
             [
              0.5555555555555556,
              "#d8576b"
             ],
             [
              0.6666666666666666,
              "#ed7953"
             ],
             [
              0.7777777777777778,
              "#fb9f3a"
             ],
             [
              0.8888888888888888,
              "#fdca26"
             ],
             [
              1,
              "#f0f921"
             ]
            ],
            "type": "histogram2d"
           }
          ],
          "histogram2dcontour": [
           {
            "colorbar": {
             "outlinewidth": 0,
             "ticks": ""
            },
            "colorscale": [
             [
              0,
              "#0d0887"
             ],
             [
              0.1111111111111111,
              "#46039f"
             ],
             [
              0.2222222222222222,
              "#7201a8"
             ],
             [
              0.3333333333333333,
              "#9c179e"
             ],
             [
              0.4444444444444444,
              "#bd3786"
             ],
             [
              0.5555555555555556,
              "#d8576b"
             ],
             [
              0.6666666666666666,
              "#ed7953"
             ],
             [
              0.7777777777777778,
              "#fb9f3a"
             ],
             [
              0.8888888888888888,
              "#fdca26"
             ],
             [
              1,
              "#f0f921"
             ]
            ],
            "type": "histogram2dcontour"
           }
          ],
          "mesh3d": [
           {
            "colorbar": {
             "outlinewidth": 0,
             "ticks": ""
            },
            "type": "mesh3d"
           }
          ],
          "parcoords": [
           {
            "line": {
             "colorbar": {
              "outlinewidth": 0,
              "ticks": ""
             }
            },
            "type": "parcoords"
           }
          ],
          "pie": [
           {
            "automargin": true,
            "type": "pie"
           }
          ],
          "scatter": [
           {
            "fillpattern": {
             "fillmode": "overlay",
             "size": 10,
             "solidity": 0.2
            },
            "type": "scatter"
           }
          ],
          "scatter3d": [
           {
            "line": {
             "colorbar": {
              "outlinewidth": 0,
              "ticks": ""
             }
            },
            "marker": {
             "colorbar": {
              "outlinewidth": 0,
              "ticks": ""
             }
            },
            "type": "scatter3d"
           }
          ],
          "scattercarpet": [
           {
            "marker": {
             "colorbar": {
              "outlinewidth": 0,
              "ticks": ""
             }
            },
            "type": "scattercarpet"
           }
          ],
          "scattergeo": [
           {
            "marker": {
             "colorbar": {
              "outlinewidth": 0,
              "ticks": ""
             }
            },
            "type": "scattergeo"
           }
          ],
          "scattergl": [
           {
            "marker": {
             "colorbar": {
              "outlinewidth": 0,
              "ticks": ""
             }
            },
            "type": "scattergl"
           }
          ],
          "scattermapbox": [
           {
            "marker": {
             "colorbar": {
              "outlinewidth": 0,
              "ticks": ""
             }
            },
            "type": "scattermapbox"
           }
          ],
          "scatterpolar": [
           {
            "marker": {
             "colorbar": {
              "outlinewidth": 0,
              "ticks": ""
             }
            },
            "type": "scatterpolar"
           }
          ],
          "scatterpolargl": [
           {
            "marker": {
             "colorbar": {
              "outlinewidth": 0,
              "ticks": ""
             }
            },
            "type": "scatterpolargl"
           }
          ],
          "scatterternary": [
           {
            "marker": {
             "colorbar": {
              "outlinewidth": 0,
              "ticks": ""
             }
            },
            "type": "scatterternary"
           }
          ],
          "surface": [
           {
            "colorbar": {
             "outlinewidth": 0,
             "ticks": ""
            },
            "colorscale": [
             [
              0,
              "#0d0887"
             ],
             [
              0.1111111111111111,
              "#46039f"
             ],
             [
              0.2222222222222222,
              "#7201a8"
             ],
             [
              0.3333333333333333,
              "#9c179e"
             ],
             [
              0.4444444444444444,
              "#bd3786"
             ],
             [
              0.5555555555555556,
              "#d8576b"
             ],
             [
              0.6666666666666666,
              "#ed7953"
             ],
             [
              0.7777777777777778,
              "#fb9f3a"
             ],
             [
              0.8888888888888888,
              "#fdca26"
             ],
             [
              1,
              "#f0f921"
             ]
            ],
            "type": "surface"
           }
          ],
          "table": [
           {
            "cells": {
             "fill": {
              "color": "#EBF0F8"
             },
             "line": {
              "color": "white"
             }
            },
            "header": {
             "fill": {
              "color": "#C8D4E3"
             },
             "line": {
              "color": "white"
             }
            },
            "type": "table"
           }
          ]
         },
         "layout": {
          "annotationdefaults": {
           "arrowcolor": "#2a3f5f",
           "arrowhead": 0,
           "arrowwidth": 1
          },
          "autotypenumbers": "strict",
          "coloraxis": {
           "colorbar": {
            "outlinewidth": 0,
            "ticks": ""
           }
          },
          "colorscale": {
           "diverging": [
            [
             0,
             "#8e0152"
            ],
            [
             0.1,
             "#c51b7d"
            ],
            [
             0.2,
             "#de77ae"
            ],
            [
             0.3,
             "#f1b6da"
            ],
            [
             0.4,
             "#fde0ef"
            ],
            [
             0.5,
             "#f7f7f7"
            ],
            [
             0.6,
             "#e6f5d0"
            ],
            [
             0.7,
             "#b8e186"
            ],
            [
             0.8,
             "#7fbc41"
            ],
            [
             0.9,
             "#4d9221"
            ],
            [
             1,
             "#276419"
            ]
           ],
           "sequential": [
            [
             0,
             "#0d0887"
            ],
            [
             0.1111111111111111,
             "#46039f"
            ],
            [
             0.2222222222222222,
             "#7201a8"
            ],
            [
             0.3333333333333333,
             "#9c179e"
            ],
            [
             0.4444444444444444,
             "#bd3786"
            ],
            [
             0.5555555555555556,
             "#d8576b"
            ],
            [
             0.6666666666666666,
             "#ed7953"
            ],
            [
             0.7777777777777778,
             "#fb9f3a"
            ],
            [
             0.8888888888888888,
             "#fdca26"
            ],
            [
             1,
             "#f0f921"
            ]
           ],
           "sequentialminus": [
            [
             0,
             "#0d0887"
            ],
            [
             0.1111111111111111,
             "#46039f"
            ],
            [
             0.2222222222222222,
             "#7201a8"
            ],
            [
             0.3333333333333333,
             "#9c179e"
            ],
            [
             0.4444444444444444,
             "#bd3786"
            ],
            [
             0.5555555555555556,
             "#d8576b"
            ],
            [
             0.6666666666666666,
             "#ed7953"
            ],
            [
             0.7777777777777778,
             "#fb9f3a"
            ],
            [
             0.8888888888888888,
             "#fdca26"
            ],
            [
             1,
             "#f0f921"
            ]
           ]
          },
          "colorway": [
           "#636efa",
           "#EF553B",
           "#00cc96",
           "#ab63fa",
           "#FFA15A",
           "#19d3f3",
           "#FF6692",
           "#B6E880",
           "#FF97FF",
           "#FECB52"
          ],
          "font": {
           "color": "#2a3f5f"
          },
          "geo": {
           "bgcolor": "white",
           "lakecolor": "white",
           "landcolor": "#E5ECF6",
           "showlakes": true,
           "showland": true,
           "subunitcolor": "white"
          },
          "hoverlabel": {
           "align": "left"
          },
          "hovermode": "closest",
          "mapbox": {
           "style": "light"
          },
          "paper_bgcolor": "white",
          "plot_bgcolor": "#E5ECF6",
          "polar": {
           "angularaxis": {
            "gridcolor": "white",
            "linecolor": "white",
            "ticks": ""
           },
           "bgcolor": "#E5ECF6",
           "radialaxis": {
            "gridcolor": "white",
            "linecolor": "white",
            "ticks": ""
           }
          },
          "scene": {
           "xaxis": {
            "backgroundcolor": "#E5ECF6",
            "gridcolor": "white",
            "gridwidth": 2,
            "linecolor": "white",
            "showbackground": true,
            "ticks": "",
            "zerolinecolor": "white"
           },
           "yaxis": {
            "backgroundcolor": "#E5ECF6",
            "gridcolor": "white",
            "gridwidth": 2,
            "linecolor": "white",
            "showbackground": true,
            "ticks": "",
            "zerolinecolor": "white"
           },
           "zaxis": {
            "backgroundcolor": "#E5ECF6",
            "gridcolor": "white",
            "gridwidth": 2,
            "linecolor": "white",
            "showbackground": true,
            "ticks": "",
            "zerolinecolor": "white"
           }
          },
          "shapedefaults": {
           "line": {
            "color": "#2a3f5f"
           }
          },
          "ternary": {
           "aaxis": {
            "gridcolor": "white",
            "linecolor": "white",
            "ticks": ""
           },
           "baxis": {
            "gridcolor": "white",
            "linecolor": "white",
            "ticks": ""
           },
           "bgcolor": "#E5ECF6",
           "caxis": {
            "gridcolor": "white",
            "linecolor": "white",
            "ticks": ""
           }
          },
          "title": {
           "x": 0.05
          },
          "xaxis": {
           "automargin": true,
           "gridcolor": "white",
           "linecolor": "white",
           "ticks": "",
           "title": {
            "standoff": 15
           },
           "zerolinecolor": "white",
           "zerolinewidth": 2
          },
          "yaxis": {
           "automargin": true,
           "gridcolor": "white",
           "linecolor": "white",
           "ticks": "",
           "title": {
            "standoff": 15
           },
           "zerolinecolor": "white",
           "zerolinewidth": 2
          }
         }
        },
        "title": {
         "text": "Top 10 Occupations with the Highest Gender Pay Gap"
        },
        "xaxis": {
         "anchor": "y",
         "domain": [
          0,
          1
         ],
         "title": {
          "text": "Occupation"
         }
        },
        "yaxis": {
         "anchor": "x",
         "domain": [
          0,
          1
         ],
         "title": {
          "text": "Gender Pay Gap (USD)"
         }
        }
       }
      },
      "text/html": [
       "<div>                            <div id=\"f01405b6-4525-4296-ad73-009e8d03ff48\" class=\"plotly-graph-div\" style=\"height:525px; width:100%;\"></div>            <script type=\"text/javascript\">                require([\"plotly\"], function(Plotly) {                    window.PLOTLYENV=window.PLOTLYENV || {};                                    if (document.getElementById(\"f01405b6-4525-4296-ad73-009e8d03ff48\")) {                    Plotly.newPlot(                        \"f01405b6-4525-4296-ad73-009e8d03ff48\",                        [{\"alignmentgroup\":\"True\",\"customdata\":[[53.64041604754829],[39.06633906633907],[30.80568720379147],[50.978647686832744],[35.978835978835974],[43.050847457627114],[60.215053763440864],[42.94117647058823],[34.23645320197045],[51.5527950310559]],\"hovertemplate\":\"Occupation=%{x}\\u003cbr\\u003eGender Pay Gap (USD)=%{y}\\u003cbr\\u003eWomen_Percentage=%{customdata[0]}\\u003cextra\\u003e\\u003c\\u002fextra\\u003e\",\"legendgroup\":\"\",\"marker\":{\"color\":\"#636efa\",\"pattern\":{\"shape\":\"\"}},\"name\":\"\",\"offsetgroup\":\"\",\"orientation\":\"v\",\"showlegend\":false,\"textposition\":\"auto\",\"x\":[\"LEGAL\",\"Personal financial advisors\",\"Securities, commodities, and financial services sales agents\",\"Financial managers\",\"Physical scientists, all other\",\"Financial analysts\",\"Business operations specialists, all other\",\"Administrative services managers\",\"Sales representatives, services, all other\",\"Advertising sales agents\"],\"xaxis\":\"x\",\"y\":[742.0,705.0,694.0,602.0,600.0,509.0,492.0,470.0,448.0,426.0],\"yaxis\":\"y\",\"type\":\"bar\"}],                        {\"template\":{\"data\":{\"histogram2dcontour\":[{\"type\":\"histogram2dcontour\",\"colorbar\":{\"outlinewidth\":0,\"ticks\":\"\"},\"colorscale\":[[0.0,\"#0d0887\"],[0.1111111111111111,\"#46039f\"],[0.2222222222222222,\"#7201a8\"],[0.3333333333333333,\"#9c179e\"],[0.4444444444444444,\"#bd3786\"],[0.5555555555555556,\"#d8576b\"],[0.6666666666666666,\"#ed7953\"],[0.7777777777777778,\"#fb9f3a\"],[0.8888888888888888,\"#fdca26\"],[1.0,\"#f0f921\"]]}],\"choropleth\":[{\"type\":\"choropleth\",\"colorbar\":{\"outlinewidth\":0,\"ticks\":\"\"}}],\"histogram2d\":[{\"type\":\"histogram2d\",\"colorbar\":{\"outlinewidth\":0,\"ticks\":\"\"},\"colorscale\":[[0.0,\"#0d0887\"],[0.1111111111111111,\"#46039f\"],[0.2222222222222222,\"#7201a8\"],[0.3333333333333333,\"#9c179e\"],[0.4444444444444444,\"#bd3786\"],[0.5555555555555556,\"#d8576b\"],[0.6666666666666666,\"#ed7953\"],[0.7777777777777778,\"#fb9f3a\"],[0.8888888888888888,\"#fdca26\"],[1.0,\"#f0f921\"]]}],\"heatmap\":[{\"type\":\"heatmap\",\"colorbar\":{\"outlinewidth\":0,\"ticks\":\"\"},\"colorscale\":[[0.0,\"#0d0887\"],[0.1111111111111111,\"#46039f\"],[0.2222222222222222,\"#7201a8\"],[0.3333333333333333,\"#9c179e\"],[0.4444444444444444,\"#bd3786\"],[0.5555555555555556,\"#d8576b\"],[0.6666666666666666,\"#ed7953\"],[0.7777777777777778,\"#fb9f3a\"],[0.8888888888888888,\"#fdca26\"],[1.0,\"#f0f921\"]]}],\"heatmapgl\":[{\"type\":\"heatmapgl\",\"colorbar\":{\"outlinewidth\":0,\"ticks\":\"\"},\"colorscale\":[[0.0,\"#0d0887\"],[0.1111111111111111,\"#46039f\"],[0.2222222222222222,\"#7201a8\"],[0.3333333333333333,\"#9c179e\"],[0.4444444444444444,\"#bd3786\"],[0.5555555555555556,\"#d8576b\"],[0.6666666666666666,\"#ed7953\"],[0.7777777777777778,\"#fb9f3a\"],[0.8888888888888888,\"#fdca26\"],[1.0,\"#f0f921\"]]}],\"contourcarpet\":[{\"type\":\"contourcarpet\",\"colorbar\":{\"outlinewidth\":0,\"ticks\":\"\"}}],\"contour\":[{\"type\":\"contour\",\"colorbar\":{\"outlinewidth\":0,\"ticks\":\"\"},\"colorscale\":[[0.0,\"#0d0887\"],[0.1111111111111111,\"#46039f\"],[0.2222222222222222,\"#7201a8\"],[0.3333333333333333,\"#9c179e\"],[0.4444444444444444,\"#bd3786\"],[0.5555555555555556,\"#d8576b\"],[0.6666666666666666,\"#ed7953\"],[0.7777777777777778,\"#fb9f3a\"],[0.8888888888888888,\"#fdca26\"],[1.0,\"#f0f921\"]]}],\"surface\":[{\"type\":\"surface\",\"colorbar\":{\"outlinewidth\":0,\"ticks\":\"\"},\"colorscale\":[[0.0,\"#0d0887\"],[0.1111111111111111,\"#46039f\"],[0.2222222222222222,\"#7201a8\"],[0.3333333333333333,\"#9c179e\"],[0.4444444444444444,\"#bd3786\"],[0.5555555555555556,\"#d8576b\"],[0.6666666666666666,\"#ed7953\"],[0.7777777777777778,\"#fb9f3a\"],[0.8888888888888888,\"#fdca26\"],[1.0,\"#f0f921\"]]}],\"mesh3d\":[{\"type\":\"mesh3d\",\"colorbar\":{\"outlinewidth\":0,\"ticks\":\"\"}}],\"scatter\":[{\"fillpattern\":{\"fillmode\":\"overlay\",\"size\":10,\"solidity\":0.2},\"type\":\"scatter\"}],\"parcoords\":[{\"type\":\"parcoords\",\"line\":{\"colorbar\":{\"outlinewidth\":0,\"ticks\":\"\"}}}],\"scatterpolargl\":[{\"type\":\"scatterpolargl\",\"marker\":{\"colorbar\":{\"outlinewidth\":0,\"ticks\":\"\"}}}],\"bar\":[{\"error_x\":{\"color\":\"#2a3f5f\"},\"error_y\":{\"color\":\"#2a3f5f\"},\"marker\":{\"line\":{\"color\":\"#E5ECF6\",\"width\":0.5},\"pattern\":{\"fillmode\":\"overlay\",\"size\":10,\"solidity\":0.2}},\"type\":\"bar\"}],\"scattergeo\":[{\"type\":\"scattergeo\",\"marker\":{\"colorbar\":{\"outlinewidth\":0,\"ticks\":\"\"}}}],\"scatterpolar\":[{\"type\":\"scatterpolar\",\"marker\":{\"colorbar\":{\"outlinewidth\":0,\"ticks\":\"\"}}}],\"histogram\":[{\"marker\":{\"pattern\":{\"fillmode\":\"overlay\",\"size\":10,\"solidity\":0.2}},\"type\":\"histogram\"}],\"scattergl\":[{\"type\":\"scattergl\",\"marker\":{\"colorbar\":{\"outlinewidth\":0,\"ticks\":\"\"}}}],\"scatter3d\":[{\"type\":\"scatter3d\",\"line\":{\"colorbar\":{\"outlinewidth\":0,\"ticks\":\"\"}},\"marker\":{\"colorbar\":{\"outlinewidth\":0,\"ticks\":\"\"}}}],\"scattermapbox\":[{\"type\":\"scattermapbox\",\"marker\":{\"colorbar\":{\"outlinewidth\":0,\"ticks\":\"\"}}}],\"scatterternary\":[{\"type\":\"scatterternary\",\"marker\":{\"colorbar\":{\"outlinewidth\":0,\"ticks\":\"\"}}}],\"scattercarpet\":[{\"type\":\"scattercarpet\",\"marker\":{\"colorbar\":{\"outlinewidth\":0,\"ticks\":\"\"}}}],\"carpet\":[{\"aaxis\":{\"endlinecolor\":\"#2a3f5f\",\"gridcolor\":\"white\",\"linecolor\":\"white\",\"minorgridcolor\":\"white\",\"startlinecolor\":\"#2a3f5f\"},\"baxis\":{\"endlinecolor\":\"#2a3f5f\",\"gridcolor\":\"white\",\"linecolor\":\"white\",\"minorgridcolor\":\"white\",\"startlinecolor\":\"#2a3f5f\"},\"type\":\"carpet\"}],\"table\":[{\"cells\":{\"fill\":{\"color\":\"#EBF0F8\"},\"line\":{\"color\":\"white\"}},\"header\":{\"fill\":{\"color\":\"#C8D4E3\"},\"line\":{\"color\":\"white\"}},\"type\":\"table\"}],\"barpolar\":[{\"marker\":{\"line\":{\"color\":\"#E5ECF6\",\"width\":0.5},\"pattern\":{\"fillmode\":\"overlay\",\"size\":10,\"solidity\":0.2}},\"type\":\"barpolar\"}],\"pie\":[{\"automargin\":true,\"type\":\"pie\"}]},\"layout\":{\"autotypenumbers\":\"strict\",\"colorway\":[\"#636efa\",\"#EF553B\",\"#00cc96\",\"#ab63fa\",\"#FFA15A\",\"#19d3f3\",\"#FF6692\",\"#B6E880\",\"#FF97FF\",\"#FECB52\"],\"font\":{\"color\":\"#2a3f5f\"},\"hovermode\":\"closest\",\"hoverlabel\":{\"align\":\"left\"},\"paper_bgcolor\":\"white\",\"plot_bgcolor\":\"#E5ECF6\",\"polar\":{\"bgcolor\":\"#E5ECF6\",\"angularaxis\":{\"gridcolor\":\"white\",\"linecolor\":\"white\",\"ticks\":\"\"},\"radialaxis\":{\"gridcolor\":\"white\",\"linecolor\":\"white\",\"ticks\":\"\"}},\"ternary\":{\"bgcolor\":\"#E5ECF6\",\"aaxis\":{\"gridcolor\":\"white\",\"linecolor\":\"white\",\"ticks\":\"\"},\"baxis\":{\"gridcolor\":\"white\",\"linecolor\":\"white\",\"ticks\":\"\"},\"caxis\":{\"gridcolor\":\"white\",\"linecolor\":\"white\",\"ticks\":\"\"}},\"coloraxis\":{\"colorbar\":{\"outlinewidth\":0,\"ticks\":\"\"}},\"colorscale\":{\"sequential\":[[0.0,\"#0d0887\"],[0.1111111111111111,\"#46039f\"],[0.2222222222222222,\"#7201a8\"],[0.3333333333333333,\"#9c179e\"],[0.4444444444444444,\"#bd3786\"],[0.5555555555555556,\"#d8576b\"],[0.6666666666666666,\"#ed7953\"],[0.7777777777777778,\"#fb9f3a\"],[0.8888888888888888,\"#fdca26\"],[1.0,\"#f0f921\"]],\"sequentialminus\":[[0.0,\"#0d0887\"],[0.1111111111111111,\"#46039f\"],[0.2222222222222222,\"#7201a8\"],[0.3333333333333333,\"#9c179e\"],[0.4444444444444444,\"#bd3786\"],[0.5555555555555556,\"#d8576b\"],[0.6666666666666666,\"#ed7953\"],[0.7777777777777778,\"#fb9f3a\"],[0.8888888888888888,\"#fdca26\"],[1.0,\"#f0f921\"]],\"diverging\":[[0,\"#8e0152\"],[0.1,\"#c51b7d\"],[0.2,\"#de77ae\"],[0.3,\"#f1b6da\"],[0.4,\"#fde0ef\"],[0.5,\"#f7f7f7\"],[0.6,\"#e6f5d0\"],[0.7,\"#b8e186\"],[0.8,\"#7fbc41\"],[0.9,\"#4d9221\"],[1,\"#276419\"]]},\"xaxis\":{\"gridcolor\":\"white\",\"linecolor\":\"white\",\"ticks\":\"\",\"title\":{\"standoff\":15},\"zerolinecolor\":\"white\",\"automargin\":true,\"zerolinewidth\":2},\"yaxis\":{\"gridcolor\":\"white\",\"linecolor\":\"white\",\"ticks\":\"\",\"title\":{\"standoff\":15},\"zerolinecolor\":\"white\",\"automargin\":true,\"zerolinewidth\":2},\"scene\":{\"xaxis\":{\"backgroundcolor\":\"#E5ECF6\",\"gridcolor\":\"white\",\"linecolor\":\"white\",\"showbackground\":true,\"ticks\":\"\",\"zerolinecolor\":\"white\",\"gridwidth\":2},\"yaxis\":{\"backgroundcolor\":\"#E5ECF6\",\"gridcolor\":\"white\",\"linecolor\":\"white\",\"showbackground\":true,\"ticks\":\"\",\"zerolinecolor\":\"white\",\"gridwidth\":2},\"zaxis\":{\"backgroundcolor\":\"#E5ECF6\",\"gridcolor\":\"white\",\"linecolor\":\"white\",\"showbackground\":true,\"ticks\":\"\",\"zerolinecolor\":\"white\",\"gridwidth\":2}},\"shapedefaults\":{\"line\":{\"color\":\"#2a3f5f\"}},\"annotationdefaults\":{\"arrowcolor\":\"#2a3f5f\",\"arrowhead\":0,\"arrowwidth\":1},\"geo\":{\"bgcolor\":\"white\",\"landcolor\":\"#E5ECF6\",\"subunitcolor\":\"white\",\"showland\":true,\"showlakes\":true,\"lakecolor\":\"white\"},\"title\":{\"x\":0.05},\"mapbox\":{\"style\":\"light\"}}},\"xaxis\":{\"anchor\":\"y\",\"domain\":[0.0,1.0],\"title\":{\"text\":\"Occupation\"}},\"yaxis\":{\"anchor\":\"x\",\"domain\":[0.0,1.0],\"title\":{\"text\":\"Gender Pay Gap (USD)\"}},\"legend\":{\"tracegroupgap\":0},\"title\":{\"text\":\"Top 10 Occupations with the Highest Gender Pay Gap\"},\"barmode\":\"relative\"},                        {\"responsive\": true}                    ).then(function(){\n",
       "                            \n",
       "var gd = document.getElementById('f01405b6-4525-4296-ad73-009e8d03ff48');\n",
       "var x = new MutationObserver(function (mutations, observer) {{\n",
       "        var display = window.getComputedStyle(gd).display;\n",
       "        if (!display || display === 'none') {{\n",
       "            console.log([gd, 'removed!']);\n",
       "            Plotly.purge(gd);\n",
       "            observer.disconnect();\n",
       "        }}\n",
       "}});\n",
       "\n",
       "// Listen for the removal of the full notebook cells\n",
       "var notebookContainer = gd.closest('#notebook-container');\n",
       "if (notebookContainer) {{\n",
       "    x.observe(notebookContainer, {childList: true});\n",
       "}}\n",
       "\n",
       "// Listen for the clearing of the current output cell\n",
       "var outputEl = gd.closest('.output');\n",
       "if (outputEl) {{\n",
       "    x.observe(outputEl, {childList: true});\n",
       "}}\n",
       "\n",
       "                        })                };                });            </script>        </div>"
      ]
     },
     "metadata": {},
     "output_type": "display_data"
    }
   ],
   "source": [
    "# Show the first plot\n",
    "fig1.show()"
   ]
  },
  {
   "cell_type": "code",
   "execution_count": 74,
   "metadata": {},
   "outputs": [],
   "source": [
    "# Graph 2: Scatter plot showing the relationship between the percentage of women and the gender pay gap\n",
    "fig2 = px.scatter(df_cleaned, x='Women_Percentage', y='Gender_Pay_Gap',\n",
    "                  hover_data=['Occupation'],\n",
    "                  title='Gender Pay Gap vs. Percentage of Women in Occupation',\n",
    "                  labels={'Women_Percentage': 'Percentage of Women (%)', 'Gender_Pay_Gap': 'Gender Pay Gap (USD)'})"
   ]
  },
  {
   "cell_type": "code",
   "execution_count": 75,
   "metadata": {},
   "outputs": [
    {
     "data": {
      "application/vnd.plotly.v1+json": {
       "config": {
        "plotlyServerURL": "https://plot.ly"
       },
       "data": [
        {
         "customdata": [
          [
           "ALL OCCUPATIONS"
          ],
          [
           "MANAGEMENT"
          ],
          [
           "Chief executives"
          ],
          [
           "General and operations managers"
          ],
          [
           "Marketing and sales managers"
          ],
          [
           "Administrative services managers"
          ],
          [
           "Computer and information systems managers"
          ],
          [
           "Financial managers"
          ],
          [
           "Human resources managers"
          ],
          [
           "Purchasing managers"
          ],
          [
           "Transportation, storage, and distribution managers"
          ],
          [
           "Education administrators"
          ],
          [
           "Food service managers"
          ],
          [
           "Lodging managers"
          ],
          [
           "Medical and health services managers"
          ],
          [
           "Property, real estate, and community association managers"
          ],
          [
           "Social and community service managers"
          ],
          [
           "Managers, all other"
          ],
          [
           "BUSINESS"
          ],
          [
           "Wholesale and retail buyers, except farm products"
          ],
          [
           "Purchasing agents, except wholesale, retail, and farm products"
          ],
          [
           "Claims adjusters, appraisers, examiners, and investigators"
          ],
          [
           "Compliance officers"
          ],
          [
           "Human resources workers"
          ],
          [
           "Management analysts"
          ],
          [
           "Market research analysts and marketing specialists"
          ],
          [
           "Business operations specialists, all other"
          ],
          [
           "Accountants and auditors"
          ],
          [
           "Financial analysts"
          ],
          [
           "Personal financial advisors"
          ],
          [
           "Credit counselors and loan officers"
          ],
          [
           "COMPUTATIONAL"
          ],
          [
           "Computer systems analysts"
          ],
          [
           "Computer programmers"
          ],
          [
           "Software developers, applications and systems software"
          ],
          [
           "Web developers"
          ],
          [
           "Computer support specialists"
          ],
          [
           "Computer occupations, all other"
          ],
          [
           "Operations research analysts"
          ],
          [
           "ENGINEERING"
          ],
          [
           "Engineers, all other"
          ],
          [
           "Engineering technicians, except drafters"
          ],
          [
           "SCIENCE"
          ],
          [
           "Medical scientists"
          ],
          [
           "Physical scientists, all other"
          ],
          [
           "Miscellaneous life, physical, and social science technicians"
          ],
          [
           "SOCIAL SERVICE"
          ],
          [
           "Counselors"
          ],
          [
           "Social workers"
          ],
          [
           "Clergy"
          ],
          [
           "LEGAL"
          ],
          [
           "Lawyers"
          ],
          [
           "EDUCATION"
          ],
          [
           "Postsecondary teachers"
          ],
          [
           "Elementary and middle school teachers"
          ],
          [
           "Secondary school teachers"
          ],
          [
           "Other teachers and instructors"
          ],
          [
           "ARTS"
          ],
          [
           "Designers"
          ],
          [
           "Producers and directors"
          ],
          [
           "Editors"
          ],
          [
           "HEALTHCARE PROFESSIONAL"
          ],
          [
           "Pharmacists"
          ],
          [
           "Physicians and surgeons"
          ],
          [
           "Physical therapists"
          ],
          [
           "Registered nurses"
          ],
          [
           "Clinical laboratory technologists and technicians"
          ],
          [
           "Diagnostic related technologists and technicians"
          ],
          [
           "Health practitioner support technologists and technicians"
          ],
          [
           "HEALTHCARE SUPPORT"
          ],
          [
           "Nursing, psychiatric, and home health aides"
          ],
          [
           "PROTECTIVE SERVICE"
          ],
          [
           "Bailiffs, correctional officers, and jailers"
          ],
          [
           "Police and sheriff's patrol officers"
          ],
          [
           "Security guards and gaming surveillance officers"
          ],
          [
           "CULINARY"
          ],
          [
           "Chefs and head cooks"
          ],
          [
           "First-line supervisors of food preparation and serving workers"
          ],
          [
           "Cooks"
          ],
          [
           "Food preparation workers"
          ],
          [
           "Bartenders"
          ],
          [
           "Combined food preparation and serving workers, including fast food"
          ],
          [
           "Waiters and waitresses"
          ],
          [
           "GROUNDSKEEPING"
          ],
          [
           "First-line supervisors of housekeeping and janitorial workers"
          ],
          [
           "Janitors and building cleaners"
          ],
          [
           "Maids and housekeeping cleaners"
          ],
          [
           "SERVICE"
          ],
          [
           "First-line supervisors of gaming workers"
          ],
          [
           "Personal care aides"
          ],
          [
           "Recreation and fitness workers"
          ],
          [
           "SALES"
          ],
          [
           "First-line supervisors of retail sales workers"
          ],
          [
           "First-line supervisors of non-retail sales workers"
          ],
          [
           "Cashiers"
          ],
          [
           "Retail salespersons"
          ],
          [
           "Advertising sales agents"
          ],
          [
           "Insurance sales agents"
          ],
          [
           "Securities, commodities, and financial services sales agents"
          ],
          [
           "Sales representatives, services, all other"
          ],
          [
           "Sales representatives, wholesale and manufacturing"
          ],
          [
           "Real estate brokers and sales agents"
          ],
          [
           "Sales and related workers, all other"
          ],
          [
           "OFFICE"
          ],
          [
           "First-line supervisors of office and administrative support workers"
          ],
          [
           "Bill and account collectors"
          ],
          [
           "Bookkeeping, accounting, and auditing clerks"
          ],
          [
           "Customer service representatives"
          ],
          [
           "Hotel, motel, and resort desk clerks"
          ],
          [
           "Receptionists and information clerks"
          ],
          [
           "Dispatchers"
          ],
          [
           "Postal service clerks"
          ],
          [
           "Postal service mail carriers"
          ],
          [
           "Production, planning, and expediting clerks"
          ],
          [
           "Shipping, receiving, and traffic clerks"
          ],
          [
           "Stock clerks and order fillers"
          ],
          [
           "Secretaries and administrative assistants"
          ],
          [
           "Data entry keyers"
          ],
          [
           "Insurance claims and policy processing clerks"
          ],
          [
           "Office clerks, general"
          ],
          [
           "Office and administrative support workers, all other"
          ],
          [
           "AGRICULTURAL"
          ],
          [
           "Miscellaneous agricultural workers"
          ],
          [
           "CONSTRUCTION"
          ],
          [
           "MAINTENANCE"
          ],
          [
           "PRODUCTION"
          ],
          [
           "First-line supervisors of production and operating workers"
          ],
          [
           "Electrical, electronics, and electromechanical assemblers"
          ],
          [
           "Miscellaneous assemblers and fabricators"
          ],
          [
           "Bakers"
          ],
          [
           "Butchers and other meat, poultry, and fish processing workers"
          ],
          [
           "Food processing workers, all other"
          ],
          [
           "Metal workers and plastic workers, all other"
          ],
          [
           "Laundry and dry-cleaning workers"
          ],
          [
           "Inspectors, testers, sorters, samplers, and weighers"
          ],
          [
           "Packaging and filling machine operators and tenders"
          ],
          [
           "Production workers, all other"
          ],
          [
           "TRANSPORTATION"
          ],
          [
           "Bus drivers"
          ],
          [
           "Driver/sales workers and truck drivers"
          ],
          [
           "Laborers and freight, stock, and material movers, hand"
          ],
          [
           "Packers and packagers, hand"
          ]
         ],
         "hovertemplate": "Percentage of Women (%)=%{x}<br>Gender Pay Gap (USD)=%{y}<br>Occupation=%{customdata[0]}<extra></extra>",
         "legendgroup": "",
         "marker": {
          "color": "#636efa",
          "symbol": "circle"
         },
         "mode": "markers",
         "name": "",
         "orientation": "v",
         "showlegend": false,
         "type": "scatter",
         "x": [
          44.31059772643931,
          41.241987179487175,
          27.055449330783937,
          24.54434993924666,
          39.87341772151899,
          42.94117647058823,
          26.572327044025158,
          50.978647686832744,
          73.22834645669292,
          43.523316062176164,
          18.84057971014493,
          63.75321336760925,
          49.0170380078637,
          55.28455284552846,
          73.98648648648648,
          57.356608478803,
          65.57377049180327,
          38.70852657866571,
          54.796364860316395,
          48.59154929577465,
          47.69230769230769,
          55.520504731861195,
          46.38297872340426,
          74.49324324324324,
          44.801512287334596,
          58.128078817733986,
          60.215053763440864,
          57.786885245901644,
          43.050847457627114,
          39.06633906633907,
          53.03514376996805,
          24.27039161885757,
          34.66933867735471,
          20.666666666666668,
          18.026418026418025,
          35.099337748344375,
          26.515151515151516,
          23.6734693877551,
          51.63934426229508,
          14.420180722891565,
          13.740458015267176,
          19.318181818181817,
          43.707482993197274,
          55.62913907284768,
          35.978835978835974,
          49.681528662420384,
          63.78908072795147,
          71.02362204724409,
          81.0930576070901,
          15.957446808510639,
          53.64041604754829,
          37.359900373599004,
          73.1260894828588,
          43.72955288985823,
          80.61297220242338,
          58.206106870229014,
          52.64550264550265,
          43.39622641509434,
          49.0725126475548,
          44.166666666666664,
          46.2962962962963,
          75.05330490405117,
          52.42718446601942,
          38.24324324324324,
          69.10112359550563,
          88.32913518052057,
          74.44444444444444,
          69.96047430830039,
          79.87679671457906,
          86.59707724425887,
          88.35714285714286,
          20.04397215097105,
          24.724061810154527,
          13.129770992366414,
          21.610169491525426,
          48.278370514064015,
          16.176470588235293,
          58.730158730158735,
          37.94162826420891,
          52.459016393442624,
          56.34920634920635,
          61.849710982658955,
          64.86175115207374,
          35.367545076282944,
          37.2093023255814,
          27.669270833333332,
          84.70319634703196,
          72.64112072517511,
          44.44444444444444,
          81.17647058823529,
          57.83783783783784,
          44.246786632390744,
          44.28202923473775,
          33.532934131736525,
          69.37406855439643,
          39.572471324296146,
          51.5527950310559,
          54.332552693208434,
          30.80568720379147,
          34.23645320197045,
          25.92267135325132,
          57.45140388768899,
          44.303797468354425,
          71.49129120483661,
          66.53816499614496,
          64.47368421052632,
          88.68660598179454,
          65.2840909090909,
          54.330708661417326,
          91.66666666666666,
          56.39999999999999,
          40.15748031496063,
          38.079470198675494,
          55.078125,
          29.482071713147413,
          36.61148977604674,
          94.42195231668916,
          75.7847533632287,
          78.37837837837837,
          83.20775026910655,
          76.21483375959079,
          21.48148148148148,
          16.6394779771615,
          2.3942677385529536,
          3.324808184143223,
          26.526287908886243,
          16.985951468710088,
          52.03252032520326,
          39.68421052631579,
          53.333333333333336,
          24.291497975708502,
          37.878787878787875,
          20.51282051282051,
          60.150375939849624,
          37.089871611982886,
          50.2092050209205,
          23.995271867612296,
          13.735078383431611,
          42.72445820433436,
          3.9077037588388532,
          15.282623866015351,
          58.96103896103896
         ],
         "xaxis": "x",
         "y": [
          169,
          347,
          415,
          345,
          345,
          470,
          254,
          602,
          221,
          178,
          257,
          333,
          140,
          269,
          266,
          314,
          177,
          312,
          323,
          -99,
          34,
          310,
          350,
          174,
          171,
          172,
          492,
          357,
          509,
          705,
          280,
          258,
          206,
          199,
          336,
          207,
          227,
          107,
          249,
          195,
          89,
          157,
          312,
          280,
          600,
          221,
          128,
          6,
          81,
          97,
          742,
          197,
          237,
          261,
          120,
          143,
          207,
          146,
          181,
          106,
          80,
          281,
          306,
          382,
          132,
          124,
          293,
          198,
          19,
          87,
          69,
          196,
          93,
          -8,
          77,
          67,
          164,
          163,
          27,
          26,
          76,
          21,
          90,
          98,
          129,
          118,
          68,
          122,
          220,
          96,
          158,
          302,
          211,
          244,
          66,
          200,
          426,
          311,
          694,
          448,
          149,
          317,
          361,
          47,
          97,
          26,
          -2,
          86,
          19,
          50,
          104,
          141,
          167,
          246,
          38,
          31,
          103,
          -49,
          87,
          -13,
          134,
          40,
          62,
          47,
          81,
          210,
          301,
          22,
          125,
          95,
          119,
          171,
          97,
          27,
          261,
          123,
          165,
          185,
          109,
          119,
          92,
          38
         ],
         "yaxis": "y"
        }
       ],
       "layout": {
        "legend": {
         "tracegroupgap": 0
        },
        "template": {
         "data": {
          "bar": [
           {
            "error_x": {
             "color": "#2a3f5f"
            },
            "error_y": {
             "color": "#2a3f5f"
            },
            "marker": {
             "line": {
              "color": "#E5ECF6",
              "width": 0.5
             },
             "pattern": {
              "fillmode": "overlay",
              "size": 10,
              "solidity": 0.2
             }
            },
            "type": "bar"
           }
          ],
          "barpolar": [
           {
            "marker": {
             "line": {
              "color": "#E5ECF6",
              "width": 0.5
             },
             "pattern": {
              "fillmode": "overlay",
              "size": 10,
              "solidity": 0.2
             }
            },
            "type": "barpolar"
           }
          ],
          "carpet": [
           {
            "aaxis": {
             "endlinecolor": "#2a3f5f",
             "gridcolor": "white",
             "linecolor": "white",
             "minorgridcolor": "white",
             "startlinecolor": "#2a3f5f"
            },
            "baxis": {
             "endlinecolor": "#2a3f5f",
             "gridcolor": "white",
             "linecolor": "white",
             "minorgridcolor": "white",
             "startlinecolor": "#2a3f5f"
            },
            "type": "carpet"
           }
          ],
          "choropleth": [
           {
            "colorbar": {
             "outlinewidth": 0,
             "ticks": ""
            },
            "type": "choropleth"
           }
          ],
          "contour": [
           {
            "colorbar": {
             "outlinewidth": 0,
             "ticks": ""
            },
            "colorscale": [
             [
              0,
              "#0d0887"
             ],
             [
              0.1111111111111111,
              "#46039f"
             ],
             [
              0.2222222222222222,
              "#7201a8"
             ],
             [
              0.3333333333333333,
              "#9c179e"
             ],
             [
              0.4444444444444444,
              "#bd3786"
             ],
             [
              0.5555555555555556,
              "#d8576b"
             ],
             [
              0.6666666666666666,
              "#ed7953"
             ],
             [
              0.7777777777777778,
              "#fb9f3a"
             ],
             [
              0.8888888888888888,
              "#fdca26"
             ],
             [
              1,
              "#f0f921"
             ]
            ],
            "type": "contour"
           }
          ],
          "contourcarpet": [
           {
            "colorbar": {
             "outlinewidth": 0,
             "ticks": ""
            },
            "type": "contourcarpet"
           }
          ],
          "heatmap": [
           {
            "colorbar": {
             "outlinewidth": 0,
             "ticks": ""
            },
            "colorscale": [
             [
              0,
              "#0d0887"
             ],
             [
              0.1111111111111111,
              "#46039f"
             ],
             [
              0.2222222222222222,
              "#7201a8"
             ],
             [
              0.3333333333333333,
              "#9c179e"
             ],
             [
              0.4444444444444444,
              "#bd3786"
             ],
             [
              0.5555555555555556,
              "#d8576b"
             ],
             [
              0.6666666666666666,
              "#ed7953"
             ],
             [
              0.7777777777777778,
              "#fb9f3a"
             ],
             [
              0.8888888888888888,
              "#fdca26"
             ],
             [
              1,
              "#f0f921"
             ]
            ],
            "type": "heatmap"
           }
          ],
          "heatmapgl": [
           {
            "colorbar": {
             "outlinewidth": 0,
             "ticks": ""
            },
            "colorscale": [
             [
              0,
              "#0d0887"
             ],
             [
              0.1111111111111111,
              "#46039f"
             ],
             [
              0.2222222222222222,
              "#7201a8"
             ],
             [
              0.3333333333333333,
              "#9c179e"
             ],
             [
              0.4444444444444444,
              "#bd3786"
             ],
             [
              0.5555555555555556,
              "#d8576b"
             ],
             [
              0.6666666666666666,
              "#ed7953"
             ],
             [
              0.7777777777777778,
              "#fb9f3a"
             ],
             [
              0.8888888888888888,
              "#fdca26"
             ],
             [
              1,
              "#f0f921"
             ]
            ],
            "type": "heatmapgl"
           }
          ],
          "histogram": [
           {
            "marker": {
             "pattern": {
              "fillmode": "overlay",
              "size": 10,
              "solidity": 0.2
             }
            },
            "type": "histogram"
           }
          ],
          "histogram2d": [
           {
            "colorbar": {
             "outlinewidth": 0,
             "ticks": ""
            },
            "colorscale": [
             [
              0,
              "#0d0887"
             ],
             [
              0.1111111111111111,
              "#46039f"
             ],
             [
              0.2222222222222222,
              "#7201a8"
             ],
             [
              0.3333333333333333,
              "#9c179e"
             ],
             [
              0.4444444444444444,
              "#bd3786"
             ],
             [
              0.5555555555555556,
              "#d8576b"
             ],
             [
              0.6666666666666666,
              "#ed7953"
             ],
             [
              0.7777777777777778,
              "#fb9f3a"
             ],
             [
              0.8888888888888888,
              "#fdca26"
             ],
             [
              1,
              "#f0f921"
             ]
            ],
            "type": "histogram2d"
           }
          ],
          "histogram2dcontour": [
           {
            "colorbar": {
             "outlinewidth": 0,
             "ticks": ""
            },
            "colorscale": [
             [
              0,
              "#0d0887"
             ],
             [
              0.1111111111111111,
              "#46039f"
             ],
             [
              0.2222222222222222,
              "#7201a8"
             ],
             [
              0.3333333333333333,
              "#9c179e"
             ],
             [
              0.4444444444444444,
              "#bd3786"
             ],
             [
              0.5555555555555556,
              "#d8576b"
             ],
             [
              0.6666666666666666,
              "#ed7953"
             ],
             [
              0.7777777777777778,
              "#fb9f3a"
             ],
             [
              0.8888888888888888,
              "#fdca26"
             ],
             [
              1,
              "#f0f921"
             ]
            ],
            "type": "histogram2dcontour"
           }
          ],
          "mesh3d": [
           {
            "colorbar": {
             "outlinewidth": 0,
             "ticks": ""
            },
            "type": "mesh3d"
           }
          ],
          "parcoords": [
           {
            "line": {
             "colorbar": {
              "outlinewidth": 0,
              "ticks": ""
             }
            },
            "type": "parcoords"
           }
          ],
          "pie": [
           {
            "automargin": true,
            "type": "pie"
           }
          ],
          "scatter": [
           {
            "fillpattern": {
             "fillmode": "overlay",
             "size": 10,
             "solidity": 0.2
            },
            "type": "scatter"
           }
          ],
          "scatter3d": [
           {
            "line": {
             "colorbar": {
              "outlinewidth": 0,
              "ticks": ""
             }
            },
            "marker": {
             "colorbar": {
              "outlinewidth": 0,
              "ticks": ""
             }
            },
            "type": "scatter3d"
           }
          ],
          "scattercarpet": [
           {
            "marker": {
             "colorbar": {
              "outlinewidth": 0,
              "ticks": ""
             }
            },
            "type": "scattercarpet"
           }
          ],
          "scattergeo": [
           {
            "marker": {
             "colorbar": {
              "outlinewidth": 0,
              "ticks": ""
             }
            },
            "type": "scattergeo"
           }
          ],
          "scattergl": [
           {
            "marker": {
             "colorbar": {
              "outlinewidth": 0,
              "ticks": ""
             }
            },
            "type": "scattergl"
           }
          ],
          "scattermapbox": [
           {
            "marker": {
             "colorbar": {
              "outlinewidth": 0,
              "ticks": ""
             }
            },
            "type": "scattermapbox"
           }
          ],
          "scatterpolar": [
           {
            "marker": {
             "colorbar": {
              "outlinewidth": 0,
              "ticks": ""
             }
            },
            "type": "scatterpolar"
           }
          ],
          "scatterpolargl": [
           {
            "marker": {
             "colorbar": {
              "outlinewidth": 0,
              "ticks": ""
             }
            },
            "type": "scatterpolargl"
           }
          ],
          "scatterternary": [
           {
            "marker": {
             "colorbar": {
              "outlinewidth": 0,
              "ticks": ""
             }
            },
            "type": "scatterternary"
           }
          ],
          "surface": [
           {
            "colorbar": {
             "outlinewidth": 0,
             "ticks": ""
            },
            "colorscale": [
             [
              0,
              "#0d0887"
             ],
             [
              0.1111111111111111,
              "#46039f"
             ],
             [
              0.2222222222222222,
              "#7201a8"
             ],
             [
              0.3333333333333333,
              "#9c179e"
             ],
             [
              0.4444444444444444,
              "#bd3786"
             ],
             [
              0.5555555555555556,
              "#d8576b"
             ],
             [
              0.6666666666666666,
              "#ed7953"
             ],
             [
              0.7777777777777778,
              "#fb9f3a"
             ],
             [
              0.8888888888888888,
              "#fdca26"
             ],
             [
              1,
              "#f0f921"
             ]
            ],
            "type": "surface"
           }
          ],
          "table": [
           {
            "cells": {
             "fill": {
              "color": "#EBF0F8"
             },
             "line": {
              "color": "white"
             }
            },
            "header": {
             "fill": {
              "color": "#C8D4E3"
             },
             "line": {
              "color": "white"
             }
            },
            "type": "table"
           }
          ]
         },
         "layout": {
          "annotationdefaults": {
           "arrowcolor": "#2a3f5f",
           "arrowhead": 0,
           "arrowwidth": 1
          },
          "autotypenumbers": "strict",
          "coloraxis": {
           "colorbar": {
            "outlinewidth": 0,
            "ticks": ""
           }
          },
          "colorscale": {
           "diverging": [
            [
             0,
             "#8e0152"
            ],
            [
             0.1,
             "#c51b7d"
            ],
            [
             0.2,
             "#de77ae"
            ],
            [
             0.3,
             "#f1b6da"
            ],
            [
             0.4,
             "#fde0ef"
            ],
            [
             0.5,
             "#f7f7f7"
            ],
            [
             0.6,
             "#e6f5d0"
            ],
            [
             0.7,
             "#b8e186"
            ],
            [
             0.8,
             "#7fbc41"
            ],
            [
             0.9,
             "#4d9221"
            ],
            [
             1,
             "#276419"
            ]
           ],
           "sequential": [
            [
             0,
             "#0d0887"
            ],
            [
             0.1111111111111111,
             "#46039f"
            ],
            [
             0.2222222222222222,
             "#7201a8"
            ],
            [
             0.3333333333333333,
             "#9c179e"
            ],
            [
             0.4444444444444444,
             "#bd3786"
            ],
            [
             0.5555555555555556,
             "#d8576b"
            ],
            [
             0.6666666666666666,
             "#ed7953"
            ],
            [
             0.7777777777777778,
             "#fb9f3a"
            ],
            [
             0.8888888888888888,
             "#fdca26"
            ],
            [
             1,
             "#f0f921"
            ]
           ],
           "sequentialminus": [
            [
             0,
             "#0d0887"
            ],
            [
             0.1111111111111111,
             "#46039f"
            ],
            [
             0.2222222222222222,
             "#7201a8"
            ],
            [
             0.3333333333333333,
             "#9c179e"
            ],
            [
             0.4444444444444444,
             "#bd3786"
            ],
            [
             0.5555555555555556,
             "#d8576b"
            ],
            [
             0.6666666666666666,
             "#ed7953"
            ],
            [
             0.7777777777777778,
             "#fb9f3a"
            ],
            [
             0.8888888888888888,
             "#fdca26"
            ],
            [
             1,
             "#f0f921"
            ]
           ]
          },
          "colorway": [
           "#636efa",
           "#EF553B",
           "#00cc96",
           "#ab63fa",
           "#FFA15A",
           "#19d3f3",
           "#FF6692",
           "#B6E880",
           "#FF97FF",
           "#FECB52"
          ],
          "font": {
           "color": "#2a3f5f"
          },
          "geo": {
           "bgcolor": "white",
           "lakecolor": "white",
           "landcolor": "#E5ECF6",
           "showlakes": true,
           "showland": true,
           "subunitcolor": "white"
          },
          "hoverlabel": {
           "align": "left"
          },
          "hovermode": "closest",
          "mapbox": {
           "style": "light"
          },
          "paper_bgcolor": "white",
          "plot_bgcolor": "#E5ECF6",
          "polar": {
           "angularaxis": {
            "gridcolor": "white",
            "linecolor": "white",
            "ticks": ""
           },
           "bgcolor": "#E5ECF6",
           "radialaxis": {
            "gridcolor": "white",
            "linecolor": "white",
            "ticks": ""
           }
          },
          "scene": {
           "xaxis": {
            "backgroundcolor": "#E5ECF6",
            "gridcolor": "white",
            "gridwidth": 2,
            "linecolor": "white",
            "showbackground": true,
            "ticks": "",
            "zerolinecolor": "white"
           },
           "yaxis": {
            "backgroundcolor": "#E5ECF6",
            "gridcolor": "white",
            "gridwidth": 2,
            "linecolor": "white",
            "showbackground": true,
            "ticks": "",
            "zerolinecolor": "white"
           },
           "zaxis": {
            "backgroundcolor": "#E5ECF6",
            "gridcolor": "white",
            "gridwidth": 2,
            "linecolor": "white",
            "showbackground": true,
            "ticks": "",
            "zerolinecolor": "white"
           }
          },
          "shapedefaults": {
           "line": {
            "color": "#2a3f5f"
           }
          },
          "ternary": {
           "aaxis": {
            "gridcolor": "white",
            "linecolor": "white",
            "ticks": ""
           },
           "baxis": {
            "gridcolor": "white",
            "linecolor": "white",
            "ticks": ""
           },
           "bgcolor": "#E5ECF6",
           "caxis": {
            "gridcolor": "white",
            "linecolor": "white",
            "ticks": ""
           }
          },
          "title": {
           "x": 0.05
          },
          "xaxis": {
           "automargin": true,
           "gridcolor": "white",
           "linecolor": "white",
           "ticks": "",
           "title": {
            "standoff": 15
           },
           "zerolinecolor": "white",
           "zerolinewidth": 2
          },
          "yaxis": {
           "automargin": true,
           "gridcolor": "white",
           "linecolor": "white",
           "ticks": "",
           "title": {
            "standoff": 15
           },
           "zerolinecolor": "white",
           "zerolinewidth": 2
          }
         }
        },
        "title": {
         "text": "Gender Pay Gap vs. Percentage of Women in Occupation"
        },
        "xaxis": {
         "anchor": "y",
         "domain": [
          0,
          1
         ],
         "title": {
          "text": "Percentage of Women (%)"
         }
        },
        "yaxis": {
         "anchor": "x",
         "domain": [
          0,
          1
         ],
         "title": {
          "text": "Gender Pay Gap (USD)"
         }
        }
       }
      },
      "text/html": [
       "<div>                            <div id=\"fa978569-dc1b-40bf-8060-21b2ccd9da99\" class=\"plotly-graph-div\" style=\"height:525px; width:100%;\"></div>            <script type=\"text/javascript\">                require([\"plotly\"], function(Plotly) {                    window.PLOTLYENV=window.PLOTLYENV || {};                                    if (document.getElementById(\"fa978569-dc1b-40bf-8060-21b2ccd9da99\")) {                    Plotly.newPlot(                        \"fa978569-dc1b-40bf-8060-21b2ccd9da99\",                        [{\"customdata\":[[\"ALL OCCUPATIONS\"],[\"MANAGEMENT\"],[\"Chief executives\"],[\"General and operations managers\"],[\"Marketing and sales managers\"],[\"Administrative services managers\"],[\"Computer and information systems managers\"],[\"Financial managers\"],[\"Human resources managers\"],[\"Purchasing managers\"],[\"Transportation, storage, and distribution managers\"],[\"Education administrators\"],[\"Food service managers\"],[\"Lodging managers\"],[\"Medical and health services managers\"],[\"Property, real estate, and community association managers\"],[\"Social and community service managers\"],[\"Managers, all other\"],[\"BUSINESS\"],[\"Wholesale and retail buyers, except farm products\"],[\"Purchasing agents, except wholesale, retail, and farm products\"],[\"Claims adjusters, appraisers, examiners, and investigators\"],[\"Compliance officers\"],[\"Human resources workers\"],[\"Management analysts\"],[\"Market research analysts and marketing specialists\"],[\"Business operations specialists, all other\"],[\"Accountants and auditors\"],[\"Financial analysts\"],[\"Personal financial advisors\"],[\"Credit counselors and loan officers\"],[\"COMPUTATIONAL\"],[\"Computer systems analysts\"],[\"Computer programmers\"],[\"Software developers, applications and systems software\"],[\"Web developers\"],[\"Computer support specialists\"],[\"Computer occupations, all other\"],[\"Operations research analysts\"],[\"ENGINEERING\"],[\"Engineers, all other\"],[\"Engineering technicians, except drafters\"],[\"SCIENCE\"],[\"Medical scientists\"],[\"Physical scientists, all other\"],[\"Miscellaneous life, physical, and social science technicians\"],[\"SOCIAL SERVICE\"],[\"Counselors\"],[\"Social workers\"],[\"Clergy\"],[\"LEGAL\"],[\"Lawyers\"],[\"EDUCATION\"],[\"Postsecondary teachers\"],[\"Elementary and middle school teachers\"],[\"Secondary school teachers\"],[\"Other teachers and instructors\"],[\"ARTS\"],[\"Designers\"],[\"Producers and directors\"],[\"Editors\"],[\"HEALTHCARE PROFESSIONAL\"],[\"Pharmacists\"],[\"Physicians and surgeons\"],[\"Physical therapists\"],[\"Registered nurses\"],[\"Clinical laboratory technologists and technicians\"],[\"Diagnostic related technologists and technicians\"],[\"Health practitioner support technologists and technicians\"],[\"HEALTHCARE SUPPORT\"],[\"Nursing, psychiatric, and home health aides\"],[\"PROTECTIVE SERVICE\"],[\"Bailiffs, correctional officers, and jailers\"],[\"Police and sheriff's patrol officers\"],[\"Security guards and gaming surveillance officers\"],[\"CULINARY\"],[\"Chefs and head cooks\"],[\"First-line supervisors of food preparation and serving workers\"],[\"Cooks\"],[\"Food preparation workers\"],[\"Bartenders\"],[\"Combined food preparation and serving workers, including fast food\"],[\"Waiters and waitresses\"],[\"GROUNDSKEEPING\"],[\"First-line supervisors of housekeeping and janitorial workers\"],[\"Janitors and building cleaners\"],[\"Maids and housekeeping cleaners\"],[\"SERVICE\"],[\"First-line supervisors of gaming workers\"],[\"Personal care aides\"],[\"Recreation and fitness workers\"],[\"SALES\"],[\"First-line supervisors of retail sales workers\"],[\"First-line supervisors of non-retail sales workers\"],[\"Cashiers\"],[\"Retail salespersons\"],[\"Advertising sales agents\"],[\"Insurance sales agents\"],[\"Securities, commodities, and financial services sales agents\"],[\"Sales representatives, services, all other\"],[\"Sales representatives, wholesale and manufacturing\"],[\"Real estate brokers and sales agents\"],[\"Sales and related workers, all other\"],[\"OFFICE\"],[\"First-line supervisors of office and administrative support workers\"],[\"Bill and account collectors\"],[\"Bookkeeping, accounting, and auditing clerks\"],[\"Customer service representatives\"],[\"Hotel, motel, and resort desk clerks\"],[\"Receptionists and information clerks\"],[\"Dispatchers\"],[\"Postal service clerks\"],[\"Postal service mail carriers\"],[\"Production, planning, and expediting clerks\"],[\"Shipping, receiving, and traffic clerks\"],[\"Stock clerks and order fillers\"],[\"Secretaries and administrative assistants\"],[\"Data entry keyers\"],[\"Insurance claims and policy processing clerks\"],[\"Office clerks, general\"],[\"Office and administrative support workers, all other\"],[\"AGRICULTURAL\"],[\"Miscellaneous agricultural workers\"],[\"CONSTRUCTION\"],[\"MAINTENANCE\"],[\"PRODUCTION\"],[\"First-line supervisors of production and operating workers\"],[\"Electrical, electronics, and electromechanical assemblers\"],[\"Miscellaneous assemblers and fabricators\"],[\"Bakers\"],[\"Butchers and other meat, poultry, and fish processing workers\"],[\"Food processing workers, all other\"],[\"Metal workers and plastic workers, all other\"],[\"Laundry and dry-cleaning workers\"],[\"Inspectors, testers, sorters, samplers, and weighers\"],[\"Packaging and filling machine operators and tenders\"],[\"Production workers, all other\"],[\"TRANSPORTATION\"],[\"Bus drivers\"],[\"Driver\\u002fsales workers and truck drivers\"],[\"Laborers and freight, stock, and material movers, hand\"],[\"Packers and packagers, hand\"]],\"hovertemplate\":\"Percentage of Women (%)=%{x}\\u003cbr\\u003eGender Pay Gap (USD)=%{y}\\u003cbr\\u003eOccupation=%{customdata[0]}\\u003cextra\\u003e\\u003c\\u002fextra\\u003e\",\"legendgroup\":\"\",\"marker\":{\"color\":\"#636efa\",\"symbol\":\"circle\"},\"mode\":\"markers\",\"name\":\"\",\"orientation\":\"v\",\"showlegend\":false,\"x\":[44.31059772643931,41.241987179487175,27.055449330783937,24.54434993924666,39.87341772151899,42.94117647058823,26.572327044025158,50.978647686832744,73.22834645669292,43.523316062176164,18.84057971014493,63.75321336760925,49.0170380078637,55.28455284552846,73.98648648648648,57.356608478803,65.57377049180327,38.70852657866571,54.796364860316395,48.59154929577465,47.69230769230769,55.520504731861195,46.38297872340426,74.49324324324324,44.801512287334596,58.128078817733986,60.215053763440864,57.786885245901644,43.050847457627114,39.06633906633907,53.03514376996805,24.27039161885757,34.66933867735471,20.666666666666668,18.026418026418025,35.099337748344375,26.515151515151516,23.6734693877551,51.63934426229508,14.420180722891565,13.740458015267176,19.318181818181817,43.707482993197274,55.62913907284768,35.978835978835974,49.681528662420384,63.78908072795147,71.02362204724409,81.0930576070901,15.957446808510639,53.64041604754829,37.359900373599004,73.1260894828588,43.72955288985823,80.61297220242338,58.206106870229014,52.64550264550265,43.39622641509434,49.0725126475548,44.166666666666664,46.2962962962963,75.05330490405117,52.42718446601942,38.24324324324324,69.10112359550563,88.32913518052057,74.44444444444444,69.96047430830039,79.87679671457906,86.59707724425887,88.35714285714286,20.04397215097105,24.724061810154527,13.129770992366414,21.610169491525426,48.278370514064015,16.176470588235293,58.730158730158735,37.94162826420891,52.459016393442624,56.34920634920635,61.849710982658955,64.86175115207374,35.367545076282944,37.2093023255814,27.669270833333332,84.70319634703196,72.64112072517511,44.44444444444444,81.17647058823529,57.83783783783784,44.246786632390744,44.28202923473775,33.532934131736525,69.37406855439643,39.572471324296146,51.5527950310559,54.332552693208434,30.80568720379147,34.23645320197045,25.92267135325132,57.45140388768899,44.303797468354425,71.49129120483661,66.53816499614496,64.47368421052632,88.68660598179454,65.2840909090909,54.330708661417326,91.66666666666666,56.39999999999999,40.15748031496063,38.079470198675494,55.078125,29.482071713147413,36.61148977604674,94.42195231668916,75.7847533632287,78.37837837837837,83.20775026910655,76.21483375959079,21.48148148148148,16.6394779771615,2.3942677385529536,3.324808184143223,26.526287908886243,16.985951468710088,52.03252032520326,39.68421052631579,53.333333333333336,24.291497975708502,37.878787878787875,20.51282051282051,60.150375939849624,37.089871611982886,50.2092050209205,23.995271867612296,13.735078383431611,42.72445820433436,3.9077037588388532,15.282623866015351,58.96103896103896],\"xaxis\":\"x\",\"y\":[169.0,347.0,415.0,345.0,345.0,470.0,254.0,602.0,221.0,178.0,257.0,333.0,140.0,269.0,266.0,314.0,177.0,312.0,323.0,-99.0,34.0,310.0,350.0,174.0,171.0,172.0,492.0,357.0,509.0,705.0,280.0,258.0,206.0,199.0,336.0,207.0,227.0,107.0,249.0,195.0,89.0,157.0,312.0,280.0,600.0,221.0,128.0,6.0,81.0,97.0,742.0,197.0,237.0,261.0,120.0,143.0,207.0,146.0,181.0,106.0,80.0,281.0,306.0,382.0,132.0,124.0,293.0,198.0,19.0,87.0,69.0,196.0,93.0,-8.0,77.0,67.0,164.0,163.0,27.0,26.0,76.0,21.0,90.0,98.0,129.0,118.0,68.0,122.0,220.0,96.0,158.0,302.0,211.0,244.0,66.0,200.0,426.0,311.0,694.0,448.0,149.0,317.0,361.0,47.0,97.0,26.0,-2.0,86.0,19.0,50.0,104.0,141.0,167.0,246.0,38.0,31.0,103.0,-49.0,87.0,-13.0,134.0,40.0,62.0,47.0,81.0,210.0,301.0,22.0,125.0,95.0,119.0,171.0,97.0,27.0,261.0,123.0,165.0,185.0,109.0,119.0,92.0,38.0],\"yaxis\":\"y\",\"type\":\"scatter\"}],                        {\"template\":{\"data\":{\"histogram2dcontour\":[{\"type\":\"histogram2dcontour\",\"colorbar\":{\"outlinewidth\":0,\"ticks\":\"\"},\"colorscale\":[[0.0,\"#0d0887\"],[0.1111111111111111,\"#46039f\"],[0.2222222222222222,\"#7201a8\"],[0.3333333333333333,\"#9c179e\"],[0.4444444444444444,\"#bd3786\"],[0.5555555555555556,\"#d8576b\"],[0.6666666666666666,\"#ed7953\"],[0.7777777777777778,\"#fb9f3a\"],[0.8888888888888888,\"#fdca26\"],[1.0,\"#f0f921\"]]}],\"choropleth\":[{\"type\":\"choropleth\",\"colorbar\":{\"outlinewidth\":0,\"ticks\":\"\"}}],\"histogram2d\":[{\"type\":\"histogram2d\",\"colorbar\":{\"outlinewidth\":0,\"ticks\":\"\"},\"colorscale\":[[0.0,\"#0d0887\"],[0.1111111111111111,\"#46039f\"],[0.2222222222222222,\"#7201a8\"],[0.3333333333333333,\"#9c179e\"],[0.4444444444444444,\"#bd3786\"],[0.5555555555555556,\"#d8576b\"],[0.6666666666666666,\"#ed7953\"],[0.7777777777777778,\"#fb9f3a\"],[0.8888888888888888,\"#fdca26\"],[1.0,\"#f0f921\"]]}],\"heatmap\":[{\"type\":\"heatmap\",\"colorbar\":{\"outlinewidth\":0,\"ticks\":\"\"},\"colorscale\":[[0.0,\"#0d0887\"],[0.1111111111111111,\"#46039f\"],[0.2222222222222222,\"#7201a8\"],[0.3333333333333333,\"#9c179e\"],[0.4444444444444444,\"#bd3786\"],[0.5555555555555556,\"#d8576b\"],[0.6666666666666666,\"#ed7953\"],[0.7777777777777778,\"#fb9f3a\"],[0.8888888888888888,\"#fdca26\"],[1.0,\"#f0f921\"]]}],\"heatmapgl\":[{\"type\":\"heatmapgl\",\"colorbar\":{\"outlinewidth\":0,\"ticks\":\"\"},\"colorscale\":[[0.0,\"#0d0887\"],[0.1111111111111111,\"#46039f\"],[0.2222222222222222,\"#7201a8\"],[0.3333333333333333,\"#9c179e\"],[0.4444444444444444,\"#bd3786\"],[0.5555555555555556,\"#d8576b\"],[0.6666666666666666,\"#ed7953\"],[0.7777777777777778,\"#fb9f3a\"],[0.8888888888888888,\"#fdca26\"],[1.0,\"#f0f921\"]]}],\"contourcarpet\":[{\"type\":\"contourcarpet\",\"colorbar\":{\"outlinewidth\":0,\"ticks\":\"\"}}],\"contour\":[{\"type\":\"contour\",\"colorbar\":{\"outlinewidth\":0,\"ticks\":\"\"},\"colorscale\":[[0.0,\"#0d0887\"],[0.1111111111111111,\"#46039f\"],[0.2222222222222222,\"#7201a8\"],[0.3333333333333333,\"#9c179e\"],[0.4444444444444444,\"#bd3786\"],[0.5555555555555556,\"#d8576b\"],[0.6666666666666666,\"#ed7953\"],[0.7777777777777778,\"#fb9f3a\"],[0.8888888888888888,\"#fdca26\"],[1.0,\"#f0f921\"]]}],\"surface\":[{\"type\":\"surface\",\"colorbar\":{\"outlinewidth\":0,\"ticks\":\"\"},\"colorscale\":[[0.0,\"#0d0887\"],[0.1111111111111111,\"#46039f\"],[0.2222222222222222,\"#7201a8\"],[0.3333333333333333,\"#9c179e\"],[0.4444444444444444,\"#bd3786\"],[0.5555555555555556,\"#d8576b\"],[0.6666666666666666,\"#ed7953\"],[0.7777777777777778,\"#fb9f3a\"],[0.8888888888888888,\"#fdca26\"],[1.0,\"#f0f921\"]]}],\"mesh3d\":[{\"type\":\"mesh3d\",\"colorbar\":{\"outlinewidth\":0,\"ticks\":\"\"}}],\"scatter\":[{\"fillpattern\":{\"fillmode\":\"overlay\",\"size\":10,\"solidity\":0.2},\"type\":\"scatter\"}],\"parcoords\":[{\"type\":\"parcoords\",\"line\":{\"colorbar\":{\"outlinewidth\":0,\"ticks\":\"\"}}}],\"scatterpolargl\":[{\"type\":\"scatterpolargl\",\"marker\":{\"colorbar\":{\"outlinewidth\":0,\"ticks\":\"\"}}}],\"bar\":[{\"error_x\":{\"color\":\"#2a3f5f\"},\"error_y\":{\"color\":\"#2a3f5f\"},\"marker\":{\"line\":{\"color\":\"#E5ECF6\",\"width\":0.5},\"pattern\":{\"fillmode\":\"overlay\",\"size\":10,\"solidity\":0.2}},\"type\":\"bar\"}],\"scattergeo\":[{\"type\":\"scattergeo\",\"marker\":{\"colorbar\":{\"outlinewidth\":0,\"ticks\":\"\"}}}],\"scatterpolar\":[{\"type\":\"scatterpolar\",\"marker\":{\"colorbar\":{\"outlinewidth\":0,\"ticks\":\"\"}}}],\"histogram\":[{\"marker\":{\"pattern\":{\"fillmode\":\"overlay\",\"size\":10,\"solidity\":0.2}},\"type\":\"histogram\"}],\"scattergl\":[{\"type\":\"scattergl\",\"marker\":{\"colorbar\":{\"outlinewidth\":0,\"ticks\":\"\"}}}],\"scatter3d\":[{\"type\":\"scatter3d\",\"line\":{\"colorbar\":{\"outlinewidth\":0,\"ticks\":\"\"}},\"marker\":{\"colorbar\":{\"outlinewidth\":0,\"ticks\":\"\"}}}],\"scattermapbox\":[{\"type\":\"scattermapbox\",\"marker\":{\"colorbar\":{\"outlinewidth\":0,\"ticks\":\"\"}}}],\"scatterternary\":[{\"type\":\"scatterternary\",\"marker\":{\"colorbar\":{\"outlinewidth\":0,\"ticks\":\"\"}}}],\"scattercarpet\":[{\"type\":\"scattercarpet\",\"marker\":{\"colorbar\":{\"outlinewidth\":0,\"ticks\":\"\"}}}],\"carpet\":[{\"aaxis\":{\"endlinecolor\":\"#2a3f5f\",\"gridcolor\":\"white\",\"linecolor\":\"white\",\"minorgridcolor\":\"white\",\"startlinecolor\":\"#2a3f5f\"},\"baxis\":{\"endlinecolor\":\"#2a3f5f\",\"gridcolor\":\"white\",\"linecolor\":\"white\",\"minorgridcolor\":\"white\",\"startlinecolor\":\"#2a3f5f\"},\"type\":\"carpet\"}],\"table\":[{\"cells\":{\"fill\":{\"color\":\"#EBF0F8\"},\"line\":{\"color\":\"white\"}},\"header\":{\"fill\":{\"color\":\"#C8D4E3\"},\"line\":{\"color\":\"white\"}},\"type\":\"table\"}],\"barpolar\":[{\"marker\":{\"line\":{\"color\":\"#E5ECF6\",\"width\":0.5},\"pattern\":{\"fillmode\":\"overlay\",\"size\":10,\"solidity\":0.2}},\"type\":\"barpolar\"}],\"pie\":[{\"automargin\":true,\"type\":\"pie\"}]},\"layout\":{\"autotypenumbers\":\"strict\",\"colorway\":[\"#636efa\",\"#EF553B\",\"#00cc96\",\"#ab63fa\",\"#FFA15A\",\"#19d3f3\",\"#FF6692\",\"#B6E880\",\"#FF97FF\",\"#FECB52\"],\"font\":{\"color\":\"#2a3f5f\"},\"hovermode\":\"closest\",\"hoverlabel\":{\"align\":\"left\"},\"paper_bgcolor\":\"white\",\"plot_bgcolor\":\"#E5ECF6\",\"polar\":{\"bgcolor\":\"#E5ECF6\",\"angularaxis\":{\"gridcolor\":\"white\",\"linecolor\":\"white\",\"ticks\":\"\"},\"radialaxis\":{\"gridcolor\":\"white\",\"linecolor\":\"white\",\"ticks\":\"\"}},\"ternary\":{\"bgcolor\":\"#E5ECF6\",\"aaxis\":{\"gridcolor\":\"white\",\"linecolor\":\"white\",\"ticks\":\"\"},\"baxis\":{\"gridcolor\":\"white\",\"linecolor\":\"white\",\"ticks\":\"\"},\"caxis\":{\"gridcolor\":\"white\",\"linecolor\":\"white\",\"ticks\":\"\"}},\"coloraxis\":{\"colorbar\":{\"outlinewidth\":0,\"ticks\":\"\"}},\"colorscale\":{\"sequential\":[[0.0,\"#0d0887\"],[0.1111111111111111,\"#46039f\"],[0.2222222222222222,\"#7201a8\"],[0.3333333333333333,\"#9c179e\"],[0.4444444444444444,\"#bd3786\"],[0.5555555555555556,\"#d8576b\"],[0.6666666666666666,\"#ed7953\"],[0.7777777777777778,\"#fb9f3a\"],[0.8888888888888888,\"#fdca26\"],[1.0,\"#f0f921\"]],\"sequentialminus\":[[0.0,\"#0d0887\"],[0.1111111111111111,\"#46039f\"],[0.2222222222222222,\"#7201a8\"],[0.3333333333333333,\"#9c179e\"],[0.4444444444444444,\"#bd3786\"],[0.5555555555555556,\"#d8576b\"],[0.6666666666666666,\"#ed7953\"],[0.7777777777777778,\"#fb9f3a\"],[0.8888888888888888,\"#fdca26\"],[1.0,\"#f0f921\"]],\"diverging\":[[0,\"#8e0152\"],[0.1,\"#c51b7d\"],[0.2,\"#de77ae\"],[0.3,\"#f1b6da\"],[0.4,\"#fde0ef\"],[0.5,\"#f7f7f7\"],[0.6,\"#e6f5d0\"],[0.7,\"#b8e186\"],[0.8,\"#7fbc41\"],[0.9,\"#4d9221\"],[1,\"#276419\"]]},\"xaxis\":{\"gridcolor\":\"white\",\"linecolor\":\"white\",\"ticks\":\"\",\"title\":{\"standoff\":15},\"zerolinecolor\":\"white\",\"automargin\":true,\"zerolinewidth\":2},\"yaxis\":{\"gridcolor\":\"white\",\"linecolor\":\"white\",\"ticks\":\"\",\"title\":{\"standoff\":15},\"zerolinecolor\":\"white\",\"automargin\":true,\"zerolinewidth\":2},\"scene\":{\"xaxis\":{\"backgroundcolor\":\"#E5ECF6\",\"gridcolor\":\"white\",\"linecolor\":\"white\",\"showbackground\":true,\"ticks\":\"\",\"zerolinecolor\":\"white\",\"gridwidth\":2},\"yaxis\":{\"backgroundcolor\":\"#E5ECF6\",\"gridcolor\":\"white\",\"linecolor\":\"white\",\"showbackground\":true,\"ticks\":\"\",\"zerolinecolor\":\"white\",\"gridwidth\":2},\"zaxis\":{\"backgroundcolor\":\"#E5ECF6\",\"gridcolor\":\"white\",\"linecolor\":\"white\",\"showbackground\":true,\"ticks\":\"\",\"zerolinecolor\":\"white\",\"gridwidth\":2}},\"shapedefaults\":{\"line\":{\"color\":\"#2a3f5f\"}},\"annotationdefaults\":{\"arrowcolor\":\"#2a3f5f\",\"arrowhead\":0,\"arrowwidth\":1},\"geo\":{\"bgcolor\":\"white\",\"landcolor\":\"#E5ECF6\",\"subunitcolor\":\"white\",\"showland\":true,\"showlakes\":true,\"lakecolor\":\"white\"},\"title\":{\"x\":0.05},\"mapbox\":{\"style\":\"light\"}}},\"xaxis\":{\"anchor\":\"y\",\"domain\":[0.0,1.0],\"title\":{\"text\":\"Percentage of Women (%)\"}},\"yaxis\":{\"anchor\":\"x\",\"domain\":[0.0,1.0],\"title\":{\"text\":\"Gender Pay Gap (USD)\"}},\"legend\":{\"tracegroupgap\":0},\"title\":{\"text\":\"Gender Pay Gap vs. Percentage of Women in Occupation\"}},                        {\"responsive\": true}                    ).then(function(){\n",
       "                            \n",
       "var gd = document.getElementById('fa978569-dc1b-40bf-8060-21b2ccd9da99');\n",
       "var x = new MutationObserver(function (mutations, observer) {{\n",
       "        var display = window.getComputedStyle(gd).display;\n",
       "        if (!display || display === 'none') {{\n",
       "            console.log([gd, 'removed!']);\n",
       "            Plotly.purge(gd);\n",
       "            observer.disconnect();\n",
       "        }}\n",
       "}});\n",
       "\n",
       "// Listen for the removal of the full notebook cells\n",
       "var notebookContainer = gd.closest('#notebook-container');\n",
       "if (notebookContainer) {{\n",
       "    x.observe(notebookContainer, {childList: true});\n",
       "}}\n",
       "\n",
       "// Listen for the clearing of the current output cell\n",
       "var outputEl = gd.closest('.output');\n",
       "if (outputEl) {{\n",
       "    x.observe(outputEl, {childList: true});\n",
       "}}\n",
       "\n",
       "                        })                };                });            </script>        </div>"
      ]
     },
     "metadata": {},
     "output_type": "display_data"
    }
   ],
   "source": [
    "# Show the second plot\n",
    "fig2.show()"
   ]
  },
  {
   "cell_type": "code",
   "execution_count": 76,
   "metadata": {},
   "outputs": [
    {
     "name": "stdout",
     "output_type": "stream",
     "text": [
      "\n",
      "Occupation with the largest gender pay gap:\n",
      "Occupation              LEGAL\n",
      "All_workers              1346\n",
      "All_weekly             1391.0\n",
      "M_workers                 624\n",
      "M_weekly               1877.0\n",
      "F_workers                 722\n",
      "F_weekly               1135.0\n",
      "Gender_Pay_Gap          742.0\n",
      "Women_Percentage    53.640416\n",
      "Name: 133, dtype: object\n"
     ]
    }
   ],
   "source": [
    "#Additional important metrics to note\n",
    "# Find the occupation with the largest gender pay gap\n",
    "max_gap_occupation = df_cleaned.loc[df_cleaned['Gender_Pay_Gap'].idxmax()]\n",
    "print(\"\\nOccupation with the largest gender pay gap:\")\n",
    "print(max_gap_occupation)"
   ]
  },
  {
   "cell_type": "code",
   "execution_count": 77,
   "metadata": {},
   "outputs": [
    {
     "name": "stdout",
     "output_type": "stream",
     "text": [
      "\n",
      "Occupation with the smallest gender pay gap:\n",
      "Occupation          Wholesale and retail buyers, except farm products\n",
      "All_workers                                                       142\n",
      "All_weekly                                                      926.0\n",
      "M_workers                                                          73\n",
      "M_weekly                                                        886.0\n",
      "F_workers                                                          69\n",
      "F_weekly                                                        985.0\n",
      "Gender_Pay_Gap                                                  -99.0\n",
      "Women_Percentage                                            48.591549\n",
      "Name: 35, dtype: object\n"
     ]
    }
   ],
   "source": [
    "# Find the occupation with the smallest gender pay gap\n",
    "min_gap_occupation = df_cleaned.loc[df_cleaned['Gender_Pay_Gap'].idxmin()]\n",
    "print(\"\\nOccupation with the smallest gender pay gap:\")\n",
    "print(min_gap_occupation)"
   ]
  },
  {
   "cell_type": "code",
   "execution_count": 78,
   "metadata": {},
   "outputs": [
    {
     "name": "stdout",
     "output_type": "stream",
     "text": [
      "\n",
      "Correlation between Women Percentage and Gender Pay Gap: -0.14283239103121648\n"
     ]
    }
   ],
   "source": [
    "# Calculate the correlation between the percentage of women in an occupation and the gender pay gap\n",
    "correlation = df_cleaned['Women_Percentage'].corr(df_cleaned['Gender_Pay_Gap'])\n",
    "print(\"\\nCorrelation between Women Percentage and Gender Pay Gap:\", correlation)\n"
   ]
  },
  {
   "cell_type": "markdown",
   "metadata": {},
   "source": [
    "## *Key takeaways:*\n",
    "### 1. Graph 1 reveals significant disparities in the gender pay gap across occupations. While some roles exhibit near parity, many show a substantial gap favoring men. Job roles in industries like law and finance demonstrate the highest disparities, where men earn significantly more than women on average. While the average gender pay gap is approximately 190, with a standard deviation of 149, it spans a broad range from a minimum of -99 to a maximum of 742, indicating notable disparities across occupations. The overall distribution highlights systemic inequality, with most occupations favoring male earnings.\n",
    "### 2. Graph 2 was based on a hypothesis that higher gender pay gap may contribute to fewer number of women in the concerned occupation. However, a correlation of -0.14 indicates a weak negative correlation between the two variables. Thus, while the hypothesis is rejected, it presents another interesting research question in the field of gender studies: what other factors contribute to the underrepresentation of women in certain occupations despite smaller gender pay gaps?"
   ]
  }
 ],
 "metadata": {
  "kernelspec": {
   "display_name": "base",
   "language": "python",
   "name": "python3"
  },
  "language_info": {
   "codemirror_mode": {
    "name": "ipython",
    "version": 3
   },
   "file_extension": ".py",
   "mimetype": "text/x-python",
   "name": "python",
   "nbconvert_exporter": "python",
   "pygments_lexer": "ipython3",
   "version": "3.12.2"
  }
 },
 "nbformat": 4,
 "nbformat_minor": 2
}